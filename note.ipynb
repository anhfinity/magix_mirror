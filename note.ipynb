{
 "cells": [
  {
   "cell_type": "code",
   "execution_count": 13,
   "metadata": {},
   "outputs": [
    {
     "data": {
      "text/plain": [
       "array([67.9245283 , 67.9245283 , 67.9245283 , 61.13207547, 61.13207547,\n",
       "       61.13207547, 67.9245283 , 67.9245283 , 67.9245283 , 67.9245283 ,\n",
       "       67.9245283 , 74.71698113, 74.71698113, 74.71698113, 74.71698113,\n",
       "       61.13207547, 54.33962264])"
      ]
     },
     "execution_count": 13,
     "metadata": {},
     "output_type": "execute_result"
    }
   ],
   "source": [
    "import numpy as np\n",
    "# data = np.load('hrs.npy')\n",
    "# data\n",
    "# dat = np.mean(data)\n",
    "# dat\n",
    "# da = np.mean(np.load('hrs.npy'))\n",
    "# print(f\"HR: {da:.0f}\")\n",
    "he = np.load('hrs.npy')\n",
    "# he = np.mean(he[:-3])\n",
    "he[:-3]"
   ]
  },
  {
   "cell_type": "code",
   "execution_count": 10,
   "metadata": {},
   "outputs": [
    {
     "data": {
      "text/plain": [
       "array([95.09433962, 95.09433962, 95.09433962, 95.09433962, 95.09433962,\n",
       "       95.09433962, 95.09433962, 95.09433962, 95.09433962, 95.09433962,\n",
       "       95.09433962, 95.09433962, 95.09433962, 95.09433962, 61.13207547,\n",
       "       61.13207547, 61.13207547, 61.13207547])"
      ]
     },
     "execution_count": 10,
     "metadata": {},
     "output_type": "execute_result"
    }
   ],
   "source": [
    "import numpy as np\n",
    "# data = np.load('hrs.npy')\n",
    "# data\n",
    "# dat = np.mean(data)\n",
    "# dat\n",
    "# da = np.mean(np.load('hrs.npy'))\n",
    "# print(f\"HR: {da:.0f}\")\n",
    "he = np.load('hrs.npy')\n",
    "# he = np.mean(he[:-3])\n",
    "he[:-3]"
   ]
  }
 ],
 "metadata": {
  "kernelspec": {
   "display_name": "myven",
   "language": "python",
   "name": "python3"
  },
  "language_info": {
   "codemirror_mode": {
    "name": "ipython",
    "version": 3
   },
   "file_extension": ".py",
   "mimetype": "text/x-python",
   "name": "python",
   "nbconvert_exporter": "python",
   "pygments_lexer": "ipython3",
   "version": "3.9.13"
  }
 },
 "nbformat": 4,
 "nbformat_minor": 2
}
